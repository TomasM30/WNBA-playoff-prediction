{
 "cells": [
  {
   "cell_type": "code",
   "execution_count": 3,
   "metadata": {},
   "outputs": [],
   "source": [
    "###WE ARE HERE"
   ]
  },
  {
   "cell_type": "code",
   "execution_count": 8,
   "metadata": {},
   "outputs": [
    {
     "name": "stdout",
     "output_type": "stream",
     "text": [
      "     playerID                               award  year  lgID\n",
      "0  thompti01w  All-Star Game Most Valuable Player     1  WNBA\n",
      "      coachID  year tmID  lgID  stint  won  lost  post_wins  post_losses\n",
      "0  adamsmi01w     5  WAS  WNBA      0   17    17          1            2\n",
      "     playerID  year  stint tmID  lgID  GP  GS  minutes  points  oRebounds  \\\n",
      "0  abrossv01w     2      0  MIN  WNBA  26  23      846     343         43   \n",
      "\n",
      "   ...  PostBlocks  PostTurnovers  PostPF  PostfgAttempted  PostfgMade  \\\n",
      "0  ...           0              0       0                0           0   \n",
      "\n",
      "   PostftAttempted  PostftMade  PostthreeAttempted  PostthreeMade  PostDQ  \n",
      "0                0           0                   0              0       0  \n",
      "\n",
      "[1 rows x 43 columns]\n",
      "        bioID pos  firstseason  lastseason  height  weight            college  \\\n",
      "0  abrahta01w   C            0           0    74.0     190  George Washington   \n",
      "\n",
      "  collegeOther   birthDate   deathDate  \n",
      "0          NaN  1975-09-27  0000-00-00  \n",
      "   year round series tmIDWinner lgIDWinner tmIDLoser lgIDLoser  W  L\n",
      "0     1    FR      A        CLE       WNBA       ORL      WNBA  2  1\n",
      "   year tmID  lgID  W  L\n",
      "0     1  HOU  WNBA  6  0\n",
      "   year  lgID tmID franchID confID  divID  rank playoff  seeded firstRound  \\\n",
      "0     9  WNBA  ATL      ATL     EA    NaN     7       N       0        NaN   \n",
      "\n",
      "   ...  GP homeW homeL  awayW  awayL  confW  confL   min  attend  \\\n",
      "0  ...  34     1    16      3     14      2     18  6825  141379   \n",
      "\n",
      "           arena  \n",
      "0  Philips Arena  \n",
      "\n",
      "[1 rows x 61 columns]\n"
     ]
    }
   ],
   "source": [
    "import pandas as pd\n",
    "import numpy as np\n",
    "\n",
    "awards = pd.read_csv(\"datasets/awards_players.csv\")\n",
    "coaches = pd.read_csv(\"datasets/coaches.csv\")\n",
    "player_teams = pd.read_csv(\"datasets/players_teams.csv\")\n",
    "players = pd.read_csv(\"datasets/players.csv\")\n",
    "series_post = pd.read_csv(\"datasets/series_post.csv\")\n",
    "teams_post = pd.read_csv(\"datasets/teams_post.csv\")\n",
    "teams = pd.read_csv(\"datasets/teams.csv\")\n",
    "\n",
    "datasets = [awards, coaches, player_teams, players, series_post, teams_post, teams]\n"
   ]
  }
 ],
 "metadata": {
  "kernelspec": {
   "display_name": "Python 3",
   "language": "python",
   "name": "python3"
  },
  "language_info": {
   "codemirror_mode": {
    "name": "ipython",
    "version": 3
   },
   "file_extension": ".py",
   "mimetype": "text/x-python",
   "name": "python",
   "nbconvert_exporter": "python",
   "pygments_lexer": "ipython3",
   "version": "3.12.3"
  }
 },
 "nbformat": 4,
 "nbformat_minor": 2
}
